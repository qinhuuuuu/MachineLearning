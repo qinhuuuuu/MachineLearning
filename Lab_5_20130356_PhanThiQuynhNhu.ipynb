{
  "nbformat": 4,
  "nbformat_minor": 0,
  "metadata": {
    "colab": {
      "provenance": [],
      "include_colab_link": true
    },
    "kernelspec": {
      "name": "python3",
      "display_name": "Python 3"
    },
    "language_info": {
      "name": "python"
    }
  },
  "cells": [
    {
      "cell_type": "markdown",
      "metadata": {
        "id": "view-in-github",
        "colab_type": "text"
      },
      "source": [
        "<a href=\"https://colab.research.google.com/github/qinhuuuuu/MachineLearning/blob/main/Lab_5_20130356_PhanThiQuynhNhu.ipynb\" target=\"_parent\"><img src=\"https://colab.research.google.com/assets/colab-badge.svg\" alt=\"Open In Colab\"/></a>"
      ]
    },
    {
      "cell_type": "markdown",
      "source": [
        "# This lab is to deal with **SVM** to classification tasks and compare its performance with other competitive algorithms. In general, **SVM** is one of the most popular and widely used supervised machine learning algorithms.\n",
        "\n",
        "*   **Deadline: 23:59, 17/03/2023**\n",
        "\n"
      ],
      "metadata": {
        "id": "LMzehe0sy5wr"
      }
    },
    {
      "cell_type": "markdown",
      "source": [
        "# Import libraries"
      ],
      "metadata": {
        "id": "H4nJmxp9zGX4"
      }
    },
    {
      "cell_type": "code",
      "execution_count": 1,
      "metadata": {
        "id": "DoVWQ8AEyc-C",
        "colab": {
          "base_uri": "https://localhost:8080/"
        },
        "outputId": "2726c381-6725-477a-9ec4-2c2b7eafa450"
      },
      "outputs": [
        {
          "output_type": "stream",
          "name": "stdout",
          "text": [
            "Mounted at /content/gdrive\n",
            "/content/gdrive/MyDrive/machineLearning\n"
          ]
        }
      ],
      "source": [
        "# code\n",
        "\n",
        "from google.colab import drive\n",
        "drive.mount('/content/gdrive')\n",
        "%cd '/content/gdrive/MyDrive/machineLearning'\n"
      ]
    },
    {
      "cell_type": "code",
      "source": [
        "from sklearn import datasets\n",
        "from sklearn import svm\n",
        "from sklearn.model_selection import train_test_split as tts\n",
        "from sklearn import metrics as m\n",
        "from sklearn.metrics import ConfusionMatrixDisplay\n",
        "from sklearn.linear_model import LogisticRegression \n",
        "from sklearn import tree\n",
        "from sklearn.neighbors import KNeighborsClassifier\n",
        "import pandas as pd\n",
        "from sklearn.preprocessing import StandardScaler\n"
      ],
      "metadata": {
        "id": "YiZfhXsfL6wO"
      },
      "execution_count": 41,
      "outputs": []
    },
    {
      "cell_type": "markdown",
      "source": [
        "#Task 1. \n",
        "For breast cancer dataset (https://tinyurl.com/3vme8hr3) which could be loaded from datasets in sklearn as follows:\n",
        "\n",
        "```\n",
        "#Import scikit-learn dataset library\n",
        "from sklearn import datasets\n",
        "\n",
        "#Load dataset\n",
        "cancer = datasets.load_breast_cancer()\n",
        "```\n",
        "\n",
        "*   1.1.\tApply SVM algorithm to above dataset using linear kernel.\n",
        "*   1.2.\tCompare the obtained results with other competitive algorithms (Logistic Regression, Decision Tree, kNN) based on metrics: accuracy, precision, recall, f1 measures.\n",
        "\n"
      ],
      "metadata": {
        "id": "kNv07ARGzOUm"
      }
    },
    {
      "cell_type": "code",
      "source": [
        "# code\n",
        "cancer = datasets.load_breast_cancer()\n",
        "# 1.1\n",
        "x = cancer.data\n",
        "y = cancer.target\n",
        "x_train, x_test, y_train, y_test = tts(x, y, test_size = 0.3)\n",
        "clf = svm.SVC(kernel='linear')\n",
        "clf.fit(x_train, y_train)\n",
        "y_pred = clf.predict(x_test)\n",
        "print(y_pred)\n",
        "svm_ps =round(m.precision_score(y_test, y_pred, average='micro'), 4)\n",
        "svm_rs =round(m.recall_score(y_test, y_pred, average='micro'), 4)\n",
        "svm_fs=round(m.f1_score(y_test, y_pred, average='micro'), 4)\n",
        "svm_ac =round(m.accuracy_score(y_test, y_pred), 4)\n",
        "print(m.confusion_matrix(y_test, y_pred))\n",
        "print(m.classification_report(y_test, y_pred))\n",
        "print('Confusion display: ', ConfusionMatrixDisplay.from_predictions(y_test, y_pred))"
      ],
      "metadata": {
        "id": "sOsg77IBzEyo",
        "colab": {
          "base_uri": "https://localhost:8080/",
          "height": 574
        },
        "outputId": "a9348875-23c9-4fb1-9a43-d45cebc59253"
      },
      "execution_count": 3,
      "outputs": [
        {
          "output_type": "stream",
          "name": "stdout",
          "text": [
            "[1 1 0 1 0 0 1 1 1 1 1 1 0 1 0 1 0 1 0 0 1 1 1 1 1 0 1 0 0 0 1 1 1 0 1 0 0\n",
            " 1 0 1 0 1 0 0 1 0 1 0 0 1 1 1 0 0 1 1 0 1 1 1 1 1 1 1 0 1 1 1 1 1 1 1 1 1\n",
            " 0 1 1 1 0 1 1 1 1 1 1 1 1 1 1 0 1 1 1 1 1 1 0 0 0 1 1 0 0 1 1 1 1 1 0 1 1\n",
            " 0 1 0 0 1 0 0 0 1 0 1 1 1 0 0 1 1 0 1 1 1 1 0 1 1 1 1 1 1 1 0 1 0 0 0 1 0\n",
            " 0 1 1 1 1 1 1 1 0 1 1 0 1 1 0 1 1 0 1 0 0 0 1]\n",
            "[[ 57   7]\n",
            " [  2 105]]\n",
            "              precision    recall  f1-score   support\n",
            "\n",
            "           0       0.97      0.89      0.93        64\n",
            "           1       0.94      0.98      0.96       107\n",
            "\n",
            "    accuracy                           0.95       171\n",
            "   macro avg       0.95      0.94      0.94       171\n",
            "weighted avg       0.95      0.95      0.95       171\n",
            "\n",
            "Confusion display:  <sklearn.metrics._plot.confusion_matrix.ConfusionMatrixDisplay object at 0x7fd1dfa70b50>\n"
          ]
        },
        {
          "output_type": "display_data",
          "data": {
            "text/plain": [
              "<Figure size 432x288 with 2 Axes>"
            ],
            "image/png": "[encoded data removed]"
          },
          "metadata": {
            "needs_background": "light"
          }
        }
      ]
    },
    {
      "cell_type": "code",
      "source": [
        "# 1.2\n",
        "\n",
        "# Logistic\n",
        "classifier = LogisticRegression(random_state= 0)\n",
        "classifier.fit(x_train, y_train)\n",
        "y_pred_log = classifier.predict(x_test)\n",
        "logistic_ac = round(m.accuracy_score(y_test, y_pred_log), 4)\n",
        "logistic_ps = round(m.precision_score(y_test, y_pred_log,average='micro'), 4)\n",
        "logistic_rs = round(m.recall_score(y_test,y_pred_log,average='micro'), 4)\n",
        "logistic_fs =  round(m.f1_score(y_test, y_pred_log,average='micro'), 4)"
      ],
      "metadata": {
        "colab": {
          "base_uri": "https://localhost:8080/"
        },
        "id": "fHyF7fR-RwJD",
        "outputId": "36acae0c-0d2f-4a24-eac2-7e6ba9325474"
      },
      "execution_count": 4,
      "outputs": [
        {
          "output_type": "stream",
          "name": "stderr",
          "text": [
            "/usr/local/lib/python3.9/dist-packages/sklearn/linear_model/_logistic.py:458: ConvergenceWarning: lbfgs failed to converge (status=1):\n",
            "STOP: TOTAL NO. of ITERATIONS REACHED LIMIT.\n",
            "\n",
            "Increase the number of iterations (max_iter) or scale the data as shown in:\n",
            "    https://scikit-learn.org/stable/modules/preprocessing.html\n",
            "Please also refer to the documentation for alternative solver options:\n",
            "    https://scikit-learn.org/stable/modules/linear_model.html#logistic-regression\n",
            "  n_iter_i = _check_optimize_result(\n"
          ]
        }
      ]
    },
    {
      "cell_type": "code",
      "source": [
        "# Decision Tree\n",
        "decision_tree = tree.DecisionTreeClassifier(random_state=50)\n",
        "decision_tree.fit(x_train, y_train)\n",
        "y_pred_tree = decision_tree.predict(x_test)\n",
        "tree_ac = round(m.accuracy_score(y_test, y_pred_tree), 4)\n",
        "tree_ps = round(m.precision_score(y_test, y_pred_tree), 4)\n",
        "tree_rs = round(m.recall_score(y_test,y_pred_tree), 4)\n",
        "tree_fs = round(m.f1_score(y_test, y_pred_tree), 4)"
      ],
      "metadata": {
        "id": "D6m3cPs1Xt6S"
      },
      "execution_count": 5,
      "outputs": []
    },
    {
      "cell_type": "code",
      "source": [
        "\n",
        "# knn\n",
        "k_range = range(1, 30, 2)\n",
        "KNN_ac = []\n",
        "KNN_ps = []\n",
        "KNN_rs = []\n",
        "KNN_fs = []\n",
        "for k in k_range:\n",
        "  KNN = KNeighborsClassifier(n_neighbors=k)\n",
        "  KNN.fit(x_train, y_train)\n",
        "  y_pred_knn = KNN.predict(x_test)\n",
        "  KNN_ac.append(round(m.accuracy_score(y_test, y_pred_knn), 4))\n",
        "  KNN_ps.append(round(m.precision_score(y_test, y_pred_knn), 4))\n",
        "  KNN_rs.append(round(m.recall_score(y_test, y_pred_knn), 4))\n",
        "  KNN_fs.append(round(m.f1_score(y_test, y_pred_knn), 4))\n",
        "  m.ConfusionMatrixDisplay.from_predictions(y_test, y_pred_knn)\n",
        "     "
      ],
      "metadata": {
        "colab": {
          "base_uri": "https://localhost:8080/",
          "height": 1000
        },
        "id": "IOrswpRGXqrx",
        "outputId": "73519324-d23d-41d6-f904-f1d14f0d58ad"
      },
      "execution_count": 6,
      "outputs": [
        {
          "output_type": "display_data",
          "data": {
            "text/plain": [
              "<Figure size 432x288 with 2 Axes>"
            ],
            "image/png": "[encoded data removed]"
          },
          "metadata": {
            "needs_background": "light"
          }
        },
        {
          "output_type": "display_data",
          "data": {
            "text/plain": [
              "<Figure size 432x288 with 2 Axes>"
            ],
            "image/png": "[encoded data removed]"
          },
          "metadata": {
            "needs_background": "light"
          }
        },
        {
          "output_type": "display_data",
          "data": {
            "text/plain": [
              "<Figure size 432x288 with 2 Axes>"
            ],
            "image/png": "[encoded data removed]"
          },
          "metadata": {
            "needs_background": "light"
          }
        },
        {
          "output_type": "display_data",
          "data": {
            "text/plain": [
              "<Figure size 432x288 with 2 Axes>"
            ],
            "image/png": "[encoded data removed]"
          },
          "metadata": {
            "needs_background": "light"
          }
        },
        {
          "output_type": "display_data",
          "data": {
            "text/plain": [
              "<Figure size 432x288 with 2 Axes>"
            ],
            "image/png": "[encoded data removed]"
          },
          "metadata": {
            "needs_background": "light"
          }
        },
        {
          "output_type": "display_data",
          "data": {
            "text/plain": [
              "<Figure size 432x288 with 2 Axes>"
            ],
            "image/png": "[encoded data removed]"
          },
          "metadata": {
            "needs_background": "light"
          }
        },
        {
          "output_type": "display_data",
          "data": {
            "text/plain": [
              "<Figure size 432x288 with 2 Axes>"
            ],
            "image/png": "[encoded data removed]"
          },
          "metadata": {
            "needs_background": "light"
          }
        },
        {
          "output_type": "display_data",
          "data": {
            "text/plain": [
              "<Figure size 432x288 with 2 Axes>"
            ],
            "image/png": "[encoded data removed]"
          },
          "metadata": {
            "needs_background": "light"
          }
        },
        {
          "output_type": "display_data",
          "data": {
            "text/plain": [
              "<Figure size 432x288 with 2 Axes>"
            ],
            "image/png": "[encoded data removed]"
          },
          "metadata": {
            "needs_background": "light"
          }
        },
        {
          "output_type": "display_data",
          "data": {
            "text/plain": [
              "<Figure size 432x288 with 2 Axes>"
            ],
            "image/png": "[encoded data removed]"
          },
          "metadata": {
            "needs_background": "light"
          }
        },
        {
          "output_type": "display_data",
          "data": {
            "text/plain": [
              "<Figure size 432x288 with 2 Axes>"
            ],
            "image/png": "[encoded data removed]"
          },
          "metadata": {
            "needs_background": "light"
          }
        },
        {
          "output_type": "display_data",
          "data": {
            "text/plain": [
              "<Figure size 432x288 with 2 Axes>"
            ],
            "image/png": "[encoded data removed]"
          },
          "metadata": {
            "needs_background": "light"
          }
        },
        {
          "output_type": "display_data",
          "data": {
            "text/plain": [
              "<Figure size 432x288 with 2 Axes>"
            ],
            "image/png": "[encoded data removed]"
          },
          "metadata": {
            "needs_background": "light"
          }
        },
        {
          "output_type": "display_data",
          "data": {
            "text/plain": [
              "<Figure size 432x288 with 2 Axes>"
            ],
            "image/png": "[encoded data removed]"
          },
          "metadata": {
            "needs_background": "light"
          }
        },
        {
          "output_type": "display_data",
          "data": {
            "text/plain": [
              "<Figure size 432x288 with 2 Axes>"
            ],
            "image/png": "[encoded data removed]"
          },
          "metadata": {
            "needs_background": "light"
          }
        }
      ]
    },
    {
      "cell_type": "code",
      "source": [
        "d_svm = {'Accuracy': svm_ac, 'Precision': svm_ps, 'Recall': svm_rs, 'F1': svm_fs}\n",
        "d_KNN = {'Accuracy':max(KNN_ac), 'Precision':max(KNN_ps), 'Recall':max(KNN_rs), 'F1': max(KNN_fs)}\n",
        "d_Logictis =  {'Accuracy': logistic_ac, 'Precision': logistic_ps, 'Recall': logistic_rs, 'F1': logistic_fs}\n",
        "d_tree = {'Accuracy': tree_ac, 'Precision': tree_ps, 'Recall': tree_rs, 'F1': tree_fs}\n",
        "pd.DataFrame({'KNN' : pd.Series(d_KNN), 'Logictis Regression':pd.Series(d_Logictis), 'Decision Tree': pd.Series(d_tree)})"
      ],
      "metadata": {
        "colab": {
          "base_uri": "https://localhost:8080/",
          "height": 175
        },
        "id": "JCBozZVDYfHP",
        "outputId": "436743e5-93c0-4d17-e457-4999b303084d"
      },
      "execution_count": 7,
      "outputs": [
        {
          "output_type": "execute_result",
          "data": {
            "text/plain": [
              "              KNN  Logictis Regression  Decision Tree\n",
              "Accuracy   0.9181               0.9357         0.9123\n",
              "Precision  0.9189               0.9357         0.9259\n",
              "Recall     0.9626               0.9357         0.9346\n",
              "F1         0.9364               0.9357         0.9302"
            ],
            "text/html": [
              "\n",
              "  <div id=\"df-426ee5d8-6792-4a04-b8b0-f919d0813394\">\n",
              "    <div class=\"colab-df-container\">\n",
              "      <div>\n",
              "<style scoped>\n",
              "    .dataframe tbody tr th:only-of-type {\n",
              "        vertical-align: middle;\n",
              "    }\n",
              "\n",
              "    .dataframe tbody tr th {\n",
              "        vertical-align: top;\n",
              "    }\n",
              "\n",
              "    .dataframe thead th {\n",
              "        text-align: right;\n",
              "    }\n",
              "</style>\n",
              "<table border=\"1\" class=\"dataframe\">\n",
              "  <thead>\n",
              "    <tr style=\"text-align: right;\">\n",
              "      <th></th>\n",
              "      <th>KNN</th>\n",
              "      <th>Logictis Regression</th>\n",
              "      <th>Decision Tree</th>\n",
              "    </tr>\n",
              "  </thead>\n",
              "  <tbody>\n",
              "    <tr>\n",
              "      <th>Accuracy</th>\n",
              "      <td>0.9181</td>\n",
              "      <td>0.9357</td>\n",
              "      <td>0.9123</td>\n",
              "    </tr>\n",
              "    <tr>\n",
              "      <th>Precision</th>\n",
              "      <td>0.9189</td>\n",
              "      <td>0.9357</td>\n",
              "      <td>0.9259</td>\n",
              "    </tr>\n",
              "    <tr>\n",
              "      <th>Recall</th>\n",
              "      <td>0.9626</td>\n",
              "      <td>0.9357</td>\n",
              "      <td>0.9346</td>\n",
              "    </tr>\n",
              "    <tr>\n",
              "      <th>F1</th>\n",
              "      <td>0.9364</td>\n",
              "      <td>0.9357</td>\n",
              "      <td>0.9302</td>\n",
              "    </tr>\n",
              "  </tbody>\n",
              "</table>\n",
              "</div>\n",
              "      <button class=\"colab-df-convert\" onclick=\"convertToInteractive('df-426ee5d8-6792-4a04-b8b0-f919d0813394')\"\n",
              "              title=\"Convert this dataframe to an interactive table.\"\n",
              "              style=\"display:none;\">\n",
              "        \n",
              "  <svg xmlns=\"http://www.w3.org/2000/svg\" height=\"24px\"viewBox=\"0 0 24 24\"\n",
              "       width=\"24px\">\n",
              "    <path d=\"M0 0h24v24H0V0z\" fill=\"none\"/>\n",
              "    <path d=\"M18.56 5.44l.94 2.06.94-2.06 2.06-.94-2.06-.94-.94-2.06-.94 2.06-2.06.94zm-11 1L8.5 8.5l.94-2.06 2.06-.94-2.06-.94L8.5 2.5l-.94 2.06-2.06.94zm10 10l.94 2.06.94-2.06 2.06-.94-2.06-.94-.94-2.06-.94 2.06-2.06.94z\"/><path d=\"M17.41 7.96l-1.37-1.37c-.4-.4-.92-.59-1.43-.59-.52 0-1.04.2-1.43.59L10.3 9.45l-7.72 7.72c-.78.78-.78 2.05 0 2.83L4 21.41c.39.39.9.59 1.41.59.51 0 1.02-.2 1.41-.59l7.78-7.78 2.81-2.81c.8-.78.8-2.07 0-2.86zM5.41 20L4 18.59l7.72-7.72 1.47 1.35L5.41 20z\"/>\n",
              "  </svg>\n",
              "      </button>\n",
              "      \n",
              "  <style>\n",
              "    .colab-df-container {\n",
              "      display:flex;\n",
              "      flex-wrap:wrap;\n",
              "      gap: 12px;\n",
              "    }\n",
              "\n",
              "    .colab-df-convert {\n",
              "      background-color: #E8F0FE;\n",
              "      border: none;\n",
              "      border-radius: 50%;\n",
              "      cursor: pointer;\n",
              "      display: none;\n",
              "      fill: #1967D2;\n",
              "      height: 32px;\n",
              "      padding: 0 0 0 0;\n",
              "      width: 32px;\n",
              "    }\n",
              "\n",
              "    .colab-df-convert:hover {\n",
              "      background-color: #E2EBFA;\n",
              "      box-shadow: 0px 1px 2px rgba(60, 64, 67, 0.3), 0px 1px 3px 1px rgba(60, 64, 67, 0.15);\n",
              "      fill: #174EA6;\n",
              "    }\n",
              "\n",
              "    [theme=dark] .colab-df-convert {\n",
              "      background-color: #3B4455;\n",
              "      fill: #D2E3FC;\n",
              "    }\n",
              "\n",
              "    [theme=dark] .colab-df-convert:hover {\n",
              "      background-color: #434B5C;\n",
              "      box-shadow: 0px 1px 3px 1px rgba(0, 0, 0, 0.15);\n",
              "      filter: drop-shadow(0px 1px 2px rgba(0, 0, 0, 0.3));\n",
              "      fill: #FFFFFF;\n",
              "    }\n",
              "  </style>\n",
              "\n",
              "      <script>\n",
              "        const buttonEl =\n",
              "          document.querySelector('#df-426ee5d8-6792-4a04-b8b0-f919d0813394 button.colab-df-convert');\n",
              "        buttonEl.style.display =\n",
              "          google.colab.kernel.accessAllowed ? 'block' : 'none';\n",
              "\n",
              "        async function convertToInteractive(key) {\n",
              "          const element = document.querySelector('#df-426ee5d8-6792-4a04-b8b0-f919d0813394');\n",
              "          const dataTable =\n",
              "            await google.colab.kernel.invokeFunction('convertToInteractive',\n",
              "                                                     [key], {});\n",
              "          if (!dataTable) return;\n",
              "\n",
              "          const docLinkHtml = 'Like what you see? Visit the ' +\n",
              "            '<a target=\"_blank\" href=https://colab.research.google.com/notebooks/data_table.ipynb>data table notebook</a>'\n",
              "            + ' to learn more about interactive tables.';\n",
              "          element.innerHTML = '';\n",
              "          dataTable['output_type'] = 'display_data';\n",
              "          await google.colab.output.renderOutput(dataTable, element);\n",
              "          const docLink = document.createElement('div');\n",
              "          docLink.innerHTML = docLinkHtml;\n",
              "          element.appendChild(docLink);\n",
              "        }\n",
              "      </script>\n",
              "    </div>\n",
              "  </div>\n",
              "  "
            ]
          },
          "metadata": {},
          "execution_count": 7
        }
      ]
    },
    {
      "cell_type": "markdown",
      "source": [
        "#Task 2. \n",
        "\n",
        "*   1.1.\tPerform SVM algorithm to **Iris dataset** using **linear kernel**.\n",
        "*   1.2.\tCompare the obtained results in 1.1 with SVM using other kernels (**Polynomial Kernel, Gaussian Kernel, Sigmoid Kernel, Radial Basis Function Kernel**). Some metrics could be used: accuracy, precision, recall, f1 measures\n",
        "\n",
        "\n",
        "\n"
      ],
      "metadata": {
        "id": "S43IoUT-0OQq"
      }
    },
    {
      "cell_type": "code",
      "source": [
        "# code\n",
        "# poly có thêm degree (3  4 5)\n",
        "data4 = datasets.load_iris()\n",
        "x_iris = data4.data\n",
        "y_iris=data4.target\n",
        "x_train_iris, x_test_iris, y_train_iris, y_test_iris = tts(x_iris, y_iris, test_size = 0.3)\n",
        "# 1.1\n",
        "# linear\n",
        "clf = svm.SVC(kernel='linear')\n",
        "clf.fit(x_train_iris, y_train_iris)\n",
        "y_pred_linear = clf.predict(x_test_iris)\n",
        "print(y_pred)\n",
        "linear_ps =round(m.precision_score(y_test_iris, y_pred_linear, average='micro'), 4)\n",
        "linear_rs =round(m.recall_score(y_test_iris, y_pred_linear, average='micro'), 4)\n",
        "linear_fs=round(m.f1_score(y_test_iris, y_pred_linear, average='micro'), 4)\n",
        "linear_ac =round(m.accuracy_score(y_test_iris, y_pred_linear), 4)\n",
        "print(m.confusion_matrix(y_test_iris, y_pred_linear))\n",
        "print(m.classification_report(y_test_iris, y_pred_linear))\n",
        "print('Confusion display: ', ConfusionMatrixDisplay.from_predictions(y_test_iris, y_pred_linear))"
      ],
      "metadata": {
        "id": "_xhPpF5b033h",
        "colab": {
          "base_uri": "https://localhost:8080/",
          "height": 609
        },
        "outputId": "c036f282-ca4b-48c1-c5c0-b3e77490d78c"
      },
      "execution_count": 8,
      "outputs": [
        {
          "output_type": "stream",
          "name": "stdout",
          "text": [
            "[1 1 0 1 0 0 1 1 1 1 1 1 0 1 0 1 0 1 0 0 1 1 1 1 1 0 1 0 0 0 1 1 1 0 1 0 0\n",
            " 1 0 1 0 1 0 0 1 0 1 0 0 1 1 1 0 0 1 1 0 1 1 1 1 1 1 1 0 1 1 1 1 1 1 1 1 1\n",
            " 0 1 1 1 0 1 1 1 1 1 1 1 1 1 1 0 1 1 1 1 1 1 0 0 0 1 1 0 0 1 1 1 1 1 0 1 1\n",
            " 0 1 0 0 1 0 0 0 1 0 1 1 1 0 0 1 1 0 1 1 1 1 0 1 1 1 1 1 1 1 0 1 0 0 0 1 0\n",
            " 0 1 1 1 1 1 1 1 0 1 1 0 1 1 0 1 1 0 1 0 0 0 1]\n",
            "[[16  0  0]\n",
            " [ 0 17  1]\n",
            " [ 0  0 11]]\n",
            "              precision    recall  f1-score   support\n",
            "\n",
            "           0       1.00      1.00      1.00        16\n",
            "           1       1.00      0.94      0.97        18\n",
            "           2       0.92      1.00      0.96        11\n",
            "\n",
            "    accuracy                           0.98        45\n",
            "   macro avg       0.97      0.98      0.98        45\n",
            "weighted avg       0.98      0.98      0.98        45\n",
            "\n",
            "Confusion display:  <sklearn.metrics._plot.confusion_matrix.ConfusionMatrixDisplay object at 0x7fd1a98f1b50>\n"
          ]
        },
        {
          "output_type": "display_data",
          "data": {
            "text/plain": [
              "<Figure size 432x288 with 2 Axes>"
            ],
            "image/png": "[encoded data removed]"
          },
          "metadata": {
            "needs_background": "light"
          }
        }
      ]
    },
    {
      "cell_type": "code",
      "source": [
        "# 1.2\n",
        "# poly\n",
        "clf = svm.SVC(kernel='poly', degree=3)\n",
        "clf.fit(x_train_iris, y_train_iris)\n",
        "y_pred_poly = clf.predict(x_test_iris)\n",
        "poly_ps =round(m.precision_score(y_test_iris, y_pred_poly, average='micro'), 4)\n",
        "poly_rs =round(m.recall_score(y_test_iris, y_pred_poly, average='micro'), 4)\n",
        "poly_fs=round(m.f1_score(y_test_iris, y_pred_poly, average='micro'), 4)\n",
        "poly_ac =round(m.accuracy_score(y_test_iris, y_pred_poly), 4)"
      ],
      "metadata": {
        "id": "Qxh0Dx32cZQV"
      },
      "execution_count": 9,
      "outputs": []
    },
    {
      "cell_type": "code",
      "source": [
        "#  Sigmoid\n",
        "clf = svm.SVC(kernel='sigmoid')\n",
        "clf.fit(x_train_iris, y_train_iris)\n",
        "y_pred_sigmoid = clf.predict(x_test_iris)\n",
        "sigmoid_ps =round(m.precision_score(y_test_iris, y_pred_sigmoid, average='micro'), 4)\n",
        "sigmoid_rs =round(m.recall_score(y_test_iris, y_pred_sigmoid, average='micro'), 4)\n",
        "sigmoid_fs=round(m.f1_score(y_test_iris, y_pred_sigmoid, average='micro'), 4)\n",
        "sigmoid_ac =round(m.accuracy_score(y_test_iris, y_pred_sigmoid), 4)"
      ],
      "metadata": {
        "id": "2Oo9F3u1czB1"
      },
      "execution_count": 10,
      "outputs": []
    },
    {
      "cell_type": "code",
      "source": [
        "#  RBF\n",
        "clf = svm.SVC(kernel='rbf')\n",
        "clf.fit(x_train_iris, y_train_iris)\n",
        "y_pred_rbf = clf.predict(x_test_iris)\n",
        "rbf_ps =round(m.precision_score(y_test_iris, y_pred_rbf, average='micro'), 4)\n",
        "rbf_rs =round(m.recall_score(y_test_iris, y_pred_rbf, average='micro'), 4)\n",
        "rbf_fs=round(m.f1_score(y_test_iris, y_pred_rbf, average='micro'), 4)\n",
        "rbf_ac =round(m.accuracy_score(y_test_iris, y_pred_rbf), 4)"
      ],
      "metadata": {
        "id": "kFnuhSVtdFu8"
      },
      "execution_count": 11,
      "outputs": []
    },
    {
      "cell_type": "code",
      "source": [
        "d_linear = {'Accuracy': linear_ac, 'Precision': linear_ps, 'Recall': linear_rs, 'F1': linear_fs}\n",
        "d_poly = {'Accuracy':poly_ac, 'Precision':poly_ps, 'Recall':poly_rs, 'F1': poly_fs}\n",
        "d_sigmoid =  {'Accuracy': sigmoid_ac, 'Precision': sigmoid_ps, 'Recall': sigmoid_rs, 'F1': sigmoid_fs}\n",
        "d_rbf = {'Accuracy': rbf_ac, 'Precision': rbf_ps, 'Recall': rbf_rs, 'F1': rbf_fs}\n",
        "pd.DataFrame({'Linear' : pd.Series(d_linear), 'Poly':pd.Series(d_poly), 'Sigmoid': pd.Series(d_sigmoid), 'RBF': pd.Series(d_rbf)})"
      ],
      "metadata": {
        "id": "PzDC12Fjc79_",
        "colab": {
          "base_uri": "https://localhost:8080/",
          "height": 175
        },
        "outputId": "26c685da-646a-46b8-e60e-5afea147ae23"
      },
      "execution_count": 12,
      "outputs": [
        {
          "output_type": "execute_result",
          "data": {
            "text/plain": [
              "           Linear    Poly  Sigmoid     RBF\n",
              "Accuracy   0.9778  0.9778   0.2444  0.9778\n",
              "Precision  0.9778  0.9778   0.2444  0.9778\n",
              "Recall     0.9778  0.9778   0.2444  0.9778\n",
              "F1         0.9778  0.9778   0.2444  0.9778"
            ],
            "text/html": [
              "\n",
              "  <div id=\"df-b4ae01d1-92cd-4849-bcdb-e2dd6a8e5a84\">\n",
              "    <div class=\"colab-df-container\">\n",
              "      <div>\n",
              "<style scoped>\n",
              "    .dataframe tbody tr th:only-of-type {\n",
              "        vertical-align: middle;\n",
              "    }\n",
              "\n",
              "    .dataframe tbody tr th {\n",
              "        vertical-align: top;\n",
              "    }\n",
              "\n",
              "    .dataframe thead th {\n",
              "        text-align: right;\n",
              "    }\n",
              "</style>\n",
              "<table border=\"1\" class=\"dataframe\">\n",
              "  <thead>\n",
              "    <tr style=\"text-align: right;\">\n",
              "      <th></th>\n",
              "      <th>Linear</th>\n",
              "      <th>Poly</th>\n",
              "      <th>Sigmoid</th>\n",
              "      <th>RBF</th>\n",
              "    </tr>\n",
              "  </thead>\n",
              "  <tbody>\n",
              "    <tr>\n",
              "      <th>Accuracy</th>\n",
              "      <td>0.9778</td>\n",
              "      <td>0.9778</td>\n",
              "      <td>0.2444</td>\n",
              "      <td>0.9778</td>\n",
              "    </tr>\n",
              "    <tr>\n",
              "      <th>Precision</th>\n",
              "      <td>0.9778</td>\n",
              "      <td>0.9778</td>\n",
              "      <td>0.2444</td>\n",
              "      <td>0.9778</td>\n",
              "    </tr>\n",
              "    <tr>\n",
              "      <th>Recall</th>\n",
              "      <td>0.9778</td>\n",
              "      <td>0.9778</td>\n",
              "      <td>0.2444</td>\n",
              "      <td>0.9778</td>\n",
              "    </tr>\n",
              "    <tr>\n",
              "      <th>F1</th>\n",
              "      <td>0.9778</td>\n",
              "      <td>0.9778</td>\n",
              "      <td>0.2444</td>\n",
              "      <td>0.9778</td>\n",
              "    </tr>\n",
              "  </tbody>\n",
              "</table>\n",
              "</div>\n",
              "      <button class=\"colab-df-convert\" onclick=\"convertToInteractive('df-b4ae01d1-92cd-4849-bcdb-e2dd6a8e5a84')\"\n",
              "              title=\"Convert this dataframe to an interactive table.\"\n",
              "              style=\"display:none;\">\n",
              "        \n",
              "  <svg xmlns=\"http://www.w3.org/2000/svg\" height=\"24px\"viewBox=\"0 0 24 24\"\n",
              "       width=\"24px\">\n",
              "    <path d=\"M0 0h24v24H0V0z\" fill=\"none\"/>\n",
              "    <path d=\"M18.56 5.44l.94 2.06.94-2.06 2.06-.94-2.06-.94-.94-2.06-.94 2.06-2.06.94zm-11 1L8.5 8.5l.94-2.06 2.06-.94-2.06-.94L8.5 2.5l-.94 2.06-2.06.94zm10 10l.94 2.06.94-2.06 2.06-.94-2.06-.94-.94-2.06-.94 2.06-2.06.94z\"/><path d=\"M17.41 7.96l-1.37-1.37c-.4-.4-.92-.59-1.43-.59-.52 0-1.04.2-1.43.59L10.3 9.45l-7.72 7.72c-.78.78-.78 2.05 0 2.83L4 21.41c.39.39.9.59 1.41.59.51 0 1.02-.2 1.41-.59l7.78-7.78 2.81-2.81c.8-.78.8-2.07 0-2.86zM5.41 20L4 18.59l7.72-7.72 1.47 1.35L5.41 20z\"/>\n",
              "  </svg>\n",
              "      </button>\n",
              "      \n",
              "  <style>\n",
              "    .colab-df-container {\n",
              "      display:flex;\n",
              "      flex-wrap:wrap;\n",
              "      gap: 12px;\n",
              "    }\n",
              "\n",
              "    .colab-df-convert {\n",
              "      background-color: #E8F0FE;\n",
              "      border: none;\n",
              "      border-radius: 50%;\n",
              "      cursor: pointer;\n",
              "      display: none;\n",
              "      fill: #1967D2;\n",
              "      height: 32px;\n",
              "      padding: 0 0 0 0;\n",
              "      width: 32px;\n",
              "    }\n",
              "\n",
              "    .colab-df-convert:hover {\n",
              "      background-color: #E2EBFA;\n",
              "      box-shadow: 0px 1px 2px rgba(60, 64, 67, 0.3), 0px 1px 3px 1px rgba(60, 64, 67, 0.15);\n",
              "      fill: #174EA6;\n",
              "    }\n",
              "\n",
              "    [theme=dark] .colab-df-convert {\n",
              "      background-color: #3B4455;\n",
              "      fill: #D2E3FC;\n",
              "    }\n",
              "\n",
              "    [theme=dark] .colab-df-convert:hover {\n",
              "      background-color: #434B5C;\n",
              "      box-shadow: 0px 1px 3px 1px rgba(0, 0, 0, 0.15);\n",
              "      filter: drop-shadow(0px 1px 2px rgba(0, 0, 0, 0.3));\n",
              "      fill: #FFFFFF;\n",
              "    }\n",
              "  </style>\n",
              "\n",
              "      <script>\n",
              "        const buttonEl =\n",
              "          document.querySelector('#df-b4ae01d1-92cd-4849-bcdb-e2dd6a8e5a84 button.colab-df-convert');\n",
              "        buttonEl.style.display =\n",
              "          google.colab.kernel.accessAllowed ? 'block' : 'none';\n",
              "\n",
              "        async function convertToInteractive(key) {\n",
              "          const element = document.querySelector('#df-b4ae01d1-92cd-4849-bcdb-e2dd6a8e5a84');\n",
              "          const dataTable =\n",
              "            await google.colab.kernel.invokeFunction('convertToInteractive',\n",
              "                                                     [key], {});\n",
              "          if (!dataTable) return;\n",
              "\n",
              "          const docLinkHtml = 'Like what you see? Visit the ' +\n",
              "            '<a target=\"_blank\" href=https://colab.research.google.com/notebooks/data_table.ipynb>data table notebook</a>'\n",
              "            + ' to learn more about interactive tables.';\n",
              "          element.innerHTML = '';\n",
              "          dataTable['output_type'] = 'display_data';\n",
              "          await google.colab.output.renderOutput(dataTable, element);\n",
              "          const docLink = document.createElement('div');\n",
              "          docLink.innerHTML = docLinkHtml;\n",
              "          element.appendChild(docLink);\n",
              "        }\n",
              "      </script>\n",
              "    </div>\n",
              "  </div>\n",
              "  "
            ]
          },
          "metadata": {},
          "execution_count": 12
        }
      ]
    },
    {
      "cell_type": "markdown",
      "source": [
        "#Task 3. \n",
        "Compare the performance of selected classification algorithms (Decision Tree, kNN, Logistic Regression) and SVM (using different kernels) with mnist dataset based on accuracy, precision, recall, f1 measures.\n"
      ],
      "metadata": {
        "id": "b52OPWPD2afi"
      }
    },
    {
      "cell_type": "code",
      "source": [
        "mnist = datasets.load_digits()\n",
        "x = mnist.data\n",
        "y = mnist.target\n",
        "x_train_mnist , x_test_mnist , y_train_mnist , y_test_mnist  = tts(x, y, test_size = 0.3)\n",
        "classifier.fit(x_train_mnist, y_train_mnist)"
      ],
      "metadata": {
        "colab": {
          "base_uri": "https://localhost:8080/",
          "height": 213
        },
        "id": "Dm9cCWuKBBQY",
        "outputId": "51744588-c052-4d5a-9caf-6bebb472350d"
      },
      "execution_count": 13,
      "outputs": [
        {
          "output_type": "stream",
          "name": "stderr",
          "text": [
            "/usr/local/lib/python3.9/dist-packages/sklearn/linear_model/_logistic.py:458: ConvergenceWarning: lbfgs failed to converge (status=1):\n",
            "STOP: TOTAL NO. of ITERATIONS REACHED LIMIT.\n",
            "\n",
            "Increase the number of iterations (max_iter) or scale the data as shown in:\n",
            "    https://scikit-learn.org/stable/modules/preprocessing.html\n",
            "Please also refer to the documentation for alternative solver options:\n",
            "    https://scikit-learn.org/stable/modules/linear_model.html#logistic-regression\n",
            "  n_iter_i = _check_optimize_result(\n"
          ]
        },
        {
          "output_type": "execute_result",
          "data": {
            "text/plain": [
              "LogisticRegression(random_state=0)"
            ],
            "text/html": [
              "<style>#sk-container-id-1 {color: black;background-color: white;}#sk-container-id-1 pre{padding: 0;}#sk-container-id-1 div.sk-toggleable {background-color: white;}#sk-container-id-1 label.sk-toggleable__label {cursor: pointer;display: block;width: 100%;margin-bottom: 0;padding: 0.3em;box-sizing: border-box;text-align: center;}#sk-container-id-1 label.sk-toggleable__label-arrow:before {content: \"▸\";float: left;margin-right: 0.25em;color: #696969;}#sk-container-id-1 label.sk-toggleable__label-arrow:hover:before {color: black;}#sk-container-id-1 div.sk-estimator:hover label.sk-toggleable__label-arrow:before {color: black;}#sk-container-id-1 div.sk-toggleable__content {max-height: 0;max-width: 0;overflow: hidden;text-align: left;background-color: #f0f8ff;}#sk-container-id-1 div.sk-toggleable__content pre {margin: 0.2em;color: black;border-radius: 0.25em;background-color: #f0f8ff;}#sk-container-id-1 input.sk-toggleable__control:checked~div.sk-toggleable__content {max-height: 200px;max-width: 100%;overflow: auto;}#sk-container-id-1 input.sk-toggleable__control:checked~label.sk-toggleable__label-arrow:before {content: \"▾\";}#sk-container-id-1 div.sk-estimator input.sk-toggleable__control:checked~label.sk-toggleable__label {background-color: #d4ebff;}#sk-container-id-1 div.sk-label input.sk-toggleable__control:checked~label.sk-toggleable__label {background-color: #d4ebff;}#sk-container-id-1 input.sk-hidden--visually {border: 0;clip: rect(1px 1px 1px 1px);clip: rect(1px, 1px, 1px, 1px);height: 1px;margin: -1px;overflow: hidden;padding: 0;position: absolute;width: 1px;}#sk-container-id-1 div.sk-estimator {font-family: monospace;background-color: #f0f8ff;border: 1px dotted black;border-radius: 0.25em;box-sizing: border-box;margin-bottom: 0.5em;}#sk-container-id-1 div.sk-estimator:hover {background-color: #d4ebff;}#sk-container-id-1 div.sk-parallel-item::after {content: \"\";width: 100%;border-bottom: 1px solid gray;flex-grow: 1;}#sk-container-id-1 div.sk-label:hover label.sk-toggleable__label {background-color: #d4ebff;}#sk-container-id-1 div.sk-serial::before {content: \"\";position: absolute;border-left: 1px solid gray;box-sizing: border-box;top: 0;bottom: 0;left: 50%;z-index: 0;}#sk-container-id-1 div.sk-serial {display: flex;flex-direction: column;align-items: center;background-color: white;padding-right: 0.2em;padding-left: 0.2em;position: relative;}#sk-container-id-1 div.sk-item {position: relative;z-index: 1;}#sk-container-id-1 div.sk-parallel {display: flex;align-items: stretch;justify-content: center;background-color: white;position: relative;}#sk-container-id-1 div.sk-item::before, #sk-container-id-1 div.sk-parallel-item::before {content: \"\";position: absolute;border-left: 1px solid gray;box-sizing: border-box;top: 0;bottom: 0;left: 50%;z-index: -1;}#sk-container-id-1 div.sk-parallel-item {display: flex;flex-direction: column;z-index: 1;position: relative;background-color: white;}#sk-container-id-1 div.sk-parallel-item:first-child::after {align-self: flex-end;width: 50%;}#sk-container-id-1 div.sk-parallel-item:last-child::after {align-self: flex-start;width: 50%;}#sk-container-id-1 div.sk-parallel-item:only-child::after {width: 0;}#sk-container-id-1 div.sk-dashed-wrapped {border: 1px dashed gray;margin: 0 0.4em 0.5em 0.4em;box-sizing: border-box;padding-bottom: 0.4em;background-color: white;}#sk-container-id-1 div.sk-label label {font-family: monospace;font-weight: bold;display: inline-block;line-height: 1.2em;}#sk-container-id-1 div.sk-label-container {text-align: center;}#sk-container-id-1 div.sk-container {/* jupyter's `normalize.less` sets `[hidden] { display: none; }` but bootstrap.min.css set `[hidden] { display: none !important; }` so we also need the `!important` here to be able to override the default hidden behavior on the sphinx rendered scikit-learn.org. See: https://github.com/scikit-learn/scikit-learn/issues/21755 */display: inline-block !important;position: relative;}#sk-container-id-1 div.sk-text-repr-fallback {display: none;}</style><div id=\"sk-container-id-1\" class=\"sk-top-container\"><div class=\"sk-text-repr-fallback\"><pre>LogisticRegression(random_state=0)</pre><b>In a Jupyter environment, please rerun this cell to show the HTML representation or trust the notebook. <br />On GitHub, the HTML representation is unable to render, please try loading this page with nbviewer.org.</b></div><div class=\"sk-container\" hidden><div class=\"sk-item\"><div class=\"sk-estimator sk-toggleable\"><input class=\"sk-toggleable__control sk-hidden--visually\" id=\"sk-estimator-id-1\" type=\"checkbox\" checked><label for=\"sk-estimator-id-1\" class=\"sk-toggleable__label sk-toggleable__label-arrow\">LogisticRegression</label><div class=\"sk-toggleable__content\"><pre>LogisticRegression(random_state=0)</pre></div></div></div></div></div>"
            ]
          },
          "metadata": {},
          "execution_count": 13
        }
      ]
    },
    {
      "cell_type": "code",
      "source": [
        "# Decision tree\n",
        "decision_tree = tree.DecisionTreeClassifier(random_state=50)\n",
        "decision_tree.fit(x_train_mnist, y_train_mnist)\n",
        "y_pred_tree = decision_tree.predict(x_test_mnist)\n",
        "tree_ac = round(m.accuracy_score(y_test_mnist, y_pred_tree), 4)\n",
        "tree_ps = round(m.precision_score(y_test_mnist, y_pred_tree, average = 'micro'), 4)\n",
        "tree_rs = round(m.recall_score(y_test_mnist,y_pred_tree, average = 'micro'), 4)\n",
        "tree_fs = round(m.f1_score(y_test_mnist, y_pred_tree, average = 'micro'), 4)"
      ],
      "metadata": {
        "id": "-okbowyYFw9i"
      },
      "execution_count": 14,
      "outputs": []
    },
    {
      "cell_type": "code",
      "source": [
        "# knn\n",
        "k_range = range(1, 30, 2)\n",
        "KNN_ac = []\n",
        "KNN_ps = []\n",
        "KNN_rs = []\n",
        "KNN_fs = []\n",
        "for k in k_range:\n",
        "  KNN = KNeighborsClassifier(n_neighbors=k)\n",
        "  KNN.fit(x_train_mnist, y_train_mnist)\n",
        "  y_pred_knn = KNN.predict(x_test_mnist)\n",
        "  KNN_ac.append(round(m.accuracy_score(y_test_mnist, y_pred_knn), 4))\n",
        "  KNN_ps.append(round(m.precision_score(y_test_mnist, y_pred_knn, average = 'micro'), 4))\n",
        "  KNN_rs.append(round(m.recall_score(y_test_mnist, y_pred_knn, average = 'micro'), 4))\n",
        "  KNN_fs.append(round(m.f1_score(y_test_mnist, y_pred_knn, average = 'micro'), 4))"
      ],
      "metadata": {
        "id": "lmXxbzl8FLwh"
      },
      "execution_count": 15,
      "outputs": []
    },
    {
      "cell_type": "code",
      "source": [
        "# Logistic\n",
        "classifier = LogisticRegression(random_state= 0)\n",
        "classifier.fit(x_train_mnist, y_train_mnist)\n",
        "y_pred_log = classifier.predict(x_test_mnist)\n",
        "logistic_ac = round(m.accuracy_score(y_test_mnist, y_pred_log), 4)\n",
        "logistic_ps = round(m.precision_score(y_test_mnist, y_pred_log,average='micro'), 4)\n",
        "logistic_rs = round(m.recall_score(y_test_mnist,y_pred_log,average='micro'), 4)\n",
        "logistic_fs =  round(m.f1_score(y_test_mnist, y_pred_log,average='micro'), 4)"
      ],
      "metadata": {
        "colab": {
          "base_uri": "https://localhost:8080/"
        },
        "id": "P5uMAhVSFjjw",
        "outputId": "cd48190c-9c26-406d-83b8-f9c71c51a4ef"
      },
      "execution_count": 16,
      "outputs": [
        {
          "output_type": "stream",
          "name": "stderr",
          "text": [
            "/usr/local/lib/python3.9/dist-packages/sklearn/linear_model/_logistic.py:458: ConvergenceWarning: lbfgs failed to converge (status=1):\n",
            "STOP: TOTAL NO. of ITERATIONS REACHED LIMIT.\n",
            "\n",
            "Increase the number of iterations (max_iter) or scale the data as shown in:\n",
            "    https://scikit-learn.org/stable/modules/preprocessing.html\n",
            "Please also refer to the documentation for alternative solver options:\n",
            "    https://scikit-learn.org/stable/modules/linear_model.html#logistic-regression\n",
            "  n_iter_i = _check_optimize_result(\n"
          ]
        }
      ]
    },
    {
      "cell_type": "code",
      "source": [
        "# linear\n",
        "clf = svm.SVC(kernel='linear')\n",
        "clf.fit(x_train_mnist, y_train_mnist)\n",
        "y_pred_linear = clf.predict(x_test_mnist)\n",
        "linear_ps =round(m.precision_score(y_test_mnist, y_pred_linear, average='micro'), 4)\n",
        "linear_rs =round(m.recall_score(y_test_mnist, y_pred_linear, average='micro'), 4)\n",
        "linear_fs=round(m.f1_score(y_test_mnist, y_pred_linear, average='micro'), 4)\n",
        "linear_ac =round(m.accuracy_score(y_test_mnist, y_pred_linear), 4)"
      ],
      "metadata": {
        "id": "mMsUXwCcF74r"
      },
      "execution_count": 17,
      "outputs": []
    },
    {
      "cell_type": "code",
      "source": [
        "# poly\n",
        "clf = svm.SVC(kernel='poly', degree=3)\n",
        "clf.fit(x_train_mnist, y_train_mnist)\n",
        "y_pred_poly = clf.predict(x_test_mnist)\n",
        "poly_ps =round(m.precision_score(y_test_mnist, y_pred_poly, average='micro'), 4)\n",
        "poly_rs =round(m.recall_score(y_test_mnist, y_pred_poly, average='micro'), 4)\n",
        "poly_fs=round(m.f1_score(y_test_mnist, y_pred_poly, average='micro'), 4)\n",
        "poly_ac =round(m.accuracy_score(y_test_mnist, y_pred_poly), 4)"
      ],
      "metadata": {
        "id": "mIPIMTYMG-Ho"
      },
      "execution_count": 18,
      "outputs": []
    },
    {
      "cell_type": "code",
      "source": [
        "#  Sigmoid\n",
        "clf = svm.SVC(kernel='sigmoid')\n",
        "clf.fit(x_train_mnist, y_train_mnist)\n",
        "y_pred_sigmoid = clf.predict(x_test_mnist)\n",
        "sigmoid_ps =round(m.precision_score(y_test_mnist, y_pred_sigmoid, average='micro'), 4)\n",
        "sigmoid_rs =round(m.recall_score(y_test_mnist, y_pred_sigmoid, average='micro'), 4)\n",
        "sigmoid_fs=round(m.f1_score(y_test_mnist, y_pred_sigmoid, average='micro'), 4)\n",
        "sigmoid_ac =round(m.accuracy_score(y_test_mnist, y_pred_sigmoid), 4)"
      ],
      "metadata": {
        "id": "-NFrkVZCHJF2"
      },
      "execution_count": 19,
      "outputs": []
    },
    {
      "cell_type": "code",
      "source": [
        "#  RBF\n",
        "clf = svm.SVC(kernel='rbf')\n",
        "clf.fit(x_train_mnist, y_train_mnist)\n",
        "y_pred_rbf = clf.predict(x_test_mnist)\n",
        "rbf_ps =round(m.precision_score(y_test_mnist, y_pred_rbf, average='micro'), 4)\n",
        "rbf_rs =round(m.recall_score(y_test_mnist, y_pred_rbf, average='micro'), 4)\n",
        "rbf_fs=round(m.f1_score(y_test_mnist, y_pred_rbf, average='micro'), 4)\n",
        "rbf_ac =round(m.accuracy_score(y_test_mnist, y_pred_rbf), 4)"
      ],
      "metadata": {
        "id": "AxG9A1acHFUi"
      },
      "execution_count": 20,
      "outputs": []
    },
    {
      "cell_type": "code",
      "source": [
        "d_KNN = {'Accuracy':max(KNN_ac), 'Precision':max(KNN_ps), 'Recall':max(KNN_rs), 'F1': max(KNN_fs)}\n",
        "d_Logictis =  {'Accuracy': logistic_ac, 'Precision': logistic_ps, 'Recall': logistic_rs, 'F1': logistic_fs}\n",
        "d_tree = {'Accuracy': tree_ac, 'Precision': tree_ps, 'Recall': tree_rs, 'F1': tree_fs}\n",
        "d_linear = {'Accuracy': linear_ac, 'Precision': linear_ps, 'Recall': linear_rs, 'F1': linear_fs}\n",
        "d_poly = {'Accuracy':poly_ac, 'Precision':poly_ps, 'Recall':poly_rs, 'F1': poly_fs}\n",
        "d_sigmoid =  {'Accuracy': sigmoid_ac, 'Precision': sigmoid_ps, 'Recall': sigmoid_rs, 'F1': sigmoid_fs}\n",
        "d_rbf = {'Accuracy': rbf_ac, 'Precision': rbf_ps, 'Recall': rbf_rs, 'F1': rbf_fs}\n",
        "pd.DataFrame({'Linear' : pd.Series(d_linear), 'Poly':pd.Series(d_poly), 'Sigmoid': pd.Series(d_sigmoid), 'RBF': pd.Series(d_rbf),'KNN' : pd.Series(d_KNN), 'Logictis Regression':pd.Series(d_Logictis), 'Decision Tree': pd.Series(d_tree)})\n"
      ],
      "metadata": {
        "colab": {
          "base_uri": "https://localhost:8080/",
          "height": 175
        },
        "id": "ZgCjdNNJFzW8",
        "outputId": "2563244d-7fa8-4f80-ed5e-bf8d8c5ef22c"
      },
      "execution_count": 22,
      "outputs": [
        {
          "output_type": "execute_result",
          "data": {
            "text/plain": [
              "           Linear    Poly  Sigmoid     RBF     KNN  Logictis Regression  \\\n",
              "Accuracy   0.9852  0.9907   0.9204  0.9889  0.9852               0.9722   \n",
              "Precision  0.9852  0.9907   0.9204  0.9889  0.9852               0.9722   \n",
              "Recall     0.9852  0.9907   0.9204  0.9889  0.9852               0.9722   \n",
              "F1         0.9852  0.9907   0.9204  0.9889  0.9852               0.9722   \n",
              "\n",
              "           Decision Tree  \n",
              "Accuracy           0.837  \n",
              "Precision          0.837  \n",
              "Recall             0.837  \n",
              "F1                 0.837  "
            ],
            "text/html": [
              "\n",
              "  <div id=\"df-395f6efa-3b97-4044-b492-abba484cf5fa\">\n",
              "    <div class=\"colab-df-container\">\n",
              "      <div>\n",
              "<style scoped>\n",
              "    .dataframe tbody tr th:only-of-type {\n",
              "        vertical-align: middle;\n",
              "    }\n",
              "\n",
              "    .dataframe tbody tr th {\n",
              "        vertical-align: top;\n",
              "    }\n",
              "\n",
              "    .dataframe thead th {\n",
              "        text-align: right;\n",
              "    }\n",
              "</style>\n",
              "<table border=\"1\" class=\"dataframe\">\n",
              "  <thead>\n",
              "    <tr style=\"text-align: right;\">\n",
              "      <th></th>\n",
              "      <th>Linear</th>\n",
              "      <th>Poly</th>\n",
              "      <th>Sigmoid</th>\n",
              "      <th>RBF</th>\n",
              "      <th>KNN</th>\n",
              "      <th>Logictis Regression</th>\n",
              "      <th>Decision Tree</th>\n",
              "    </tr>\n",
              "  </thead>\n",
              "  <tbody>\n",
              "    <tr>\n",
              "      <th>Accuracy</th>\n",
              "      <td>0.9852</td>\n",
              "      <td>0.9907</td>\n",
              "      <td>0.9204</td>\n",
              "      <td>0.9889</td>\n",
              "      <td>0.9852</td>\n",
              "      <td>0.9722</td>\n",
              "      <td>0.837</td>\n",
              "    </tr>\n",
              "    <tr>\n",
              "      <th>Precision</th>\n",
              "      <td>0.9852</td>\n",
              "      <td>0.9907</td>\n",
              "      <td>0.9204</td>\n",
              "      <td>0.9889</td>\n",
              "      <td>0.9852</td>\n",
              "      <td>0.9722</td>\n",
              "      <td>0.837</td>\n",
              "    </tr>\n",
              "    <tr>\n",
              "      <th>Recall</th>\n",
              "      <td>0.9852</td>\n",
              "      <td>0.9907</td>\n",
              "      <td>0.9204</td>\n",
              "      <td>0.9889</td>\n",
              "      <td>0.9852</td>\n",
              "      <td>0.9722</td>\n",
              "      <td>0.837</td>\n",
              "    </tr>\n",
              "    <tr>\n",
              "      <th>F1</th>\n",
              "      <td>0.9852</td>\n",
              "      <td>0.9907</td>\n",
              "      <td>0.9204</td>\n",
              "      <td>0.9889</td>\n",
              "      <td>0.9852</td>\n",
              "      <td>0.9722</td>\n",
              "      <td>0.837</td>\n",
              "    </tr>\n",
              "  </tbody>\n",
              "</table>\n",
              "</div>\n",
              "      <button class=\"colab-df-convert\" onclick=\"convertToInteractive('df-395f6efa-3b97-4044-b492-abba484cf5fa')\"\n",
              "              title=\"Convert this dataframe to an interactive table.\"\n",
              "              style=\"display:none;\">\n",
              "        \n",
              "  <svg xmlns=\"http://www.w3.org/2000/svg\" height=\"24px\"viewBox=\"0 0 24 24\"\n",
              "       width=\"24px\">\n",
              "    <path d=\"M0 0h24v24H0V0z\" fill=\"none\"/>\n",
              "    <path d=\"M18.56 5.44l.94 2.06.94-2.06 2.06-.94-2.06-.94-.94-2.06-.94 2.06-2.06.94zm-11 1L8.5 8.5l.94-2.06 2.06-.94-2.06-.94L8.5 2.5l-.94 2.06-2.06.94zm10 10l.94 2.06.94-2.06 2.06-.94-2.06-.94-.94-2.06-.94 2.06-2.06.94z\"/><path d=\"M17.41 7.96l-1.37-1.37c-.4-.4-.92-.59-1.43-.59-.52 0-1.04.2-1.43.59L10.3 9.45l-7.72 7.72c-.78.78-.78 2.05 0 2.83L4 21.41c.39.39.9.59 1.41.59.51 0 1.02-.2 1.41-.59l7.78-7.78 2.81-2.81c.8-.78.8-2.07 0-2.86zM5.41 20L4 18.59l7.72-7.72 1.47 1.35L5.41 20z\"/>\n",
              "  </svg>\n",
              "      </button>\n",
              "      \n",
              "  <style>\n",
              "    .colab-df-container {\n",
              "      display:flex;\n",
              "      flex-wrap:wrap;\n",
              "      gap: 12px;\n",
              "    }\n",
              "\n",
              "    .colab-df-convert {\n",
              "      background-color: #E8F0FE;\n",
              "      border: none;\n",
              "      border-radius: 50%;\n",
              "      cursor: pointer;\n",
              "      display: none;\n",
              "      fill: #1967D2;\n",
              "      height: 32px;\n",
              "      padding: 0 0 0 0;\n",
              "      width: 32px;\n",
              "    }\n",
              "\n",
              "    .colab-df-convert:hover {\n",
              "      background-color: #E2EBFA;\n",
              "      box-shadow: 0px 1px 2px rgba(60, 64, 67, 0.3), 0px 1px 3px 1px rgba(60, 64, 67, 0.15);\n",
              "      fill: #174EA6;\n",
              "    }\n",
              "\n",
              "    [theme=dark] .colab-df-convert {\n",
              "      background-color: #3B4455;\n",
              "      fill: #D2E3FC;\n",
              "    }\n",
              "\n",
              "    [theme=dark] .colab-df-convert:hover {\n",
              "      background-color: #434B5C;\n",
              "      box-shadow: 0px 1px 3px 1px rgba(0, 0, 0, 0.15);\n",
              "      filter: drop-shadow(0px 1px 2px rgba(0, 0, 0, 0.3));\n",
              "      fill: #FFFFFF;\n",
              "    }\n",
              "  </style>\n",
              "\n",
              "      <script>\n",
              "        const buttonEl =\n",
              "          document.querySelector('#df-395f6efa-3b97-4044-b492-abba484cf5fa button.colab-df-convert');\n",
              "        buttonEl.style.display =\n",
              "          google.colab.kernel.accessAllowed ? 'block' : 'none';\n",
              "\n",
              "        async function convertToInteractive(key) {\n",
              "          const element = document.querySelector('#df-395f6efa-3b97-4044-b492-abba484cf5fa');\n",
              "          const dataTable =\n",
              "            await google.colab.kernel.invokeFunction('convertToInteractive',\n",
              "                                                     [key], {});\n",
              "          if (!dataTable) return;\n",
              "\n",
              "          const docLinkHtml = 'Like what you see? Visit the ' +\n",
              "            '<a target=\"_blank\" href=https://colab.research.google.com/notebooks/data_table.ipynb>data table notebook</a>'\n",
              "            + ' to learn more about interactive tables.';\n",
              "          element.innerHTML = '';\n",
              "          dataTable['output_type'] = 'display_data';\n",
              "          await google.colab.output.renderOutput(dataTable, element);\n",
              "          const docLink = document.createElement('div');\n",
              "          docLink.innerHTML = docLinkHtml;\n",
              "          element.appendChild(docLink);\n",
              "        }\n",
              "      </script>\n",
              "    </div>\n",
              "  </div>\n",
              "  "
            ]
          },
          "metadata": {},
          "execution_count": 22
        }
      ]
    },
    {
      "cell_type": "markdown",
      "source": [
        "#Task 4. \n",
        "Compare the performance of selected classification algorithms (Decision Tree, kNN, Logistic Regression) and SVM (using different kernels) with **credit card dataset** based on accuracy, precision, recall, f1 measures.\n",
        "\n",
        "*   Give some comments on the obtained results\n",
        "*   Identify issues with dataset, and propose the solutions to these issues\n",
        "\n"
      ],
      "metadata": {
        "id": "Z5pp7_h-aP2u"
      }
    },
    {
      "cell_type": "code",
      "source": [
        "# code\n",
        "dataset4 = pd.read_csv('creditcard.csv')\n",
        "x_train, x_test, y_train, y_test = tts(dataset4.iloc[:, :30], dataset4.iloc[:, 30:], train_size = 0.3, test_size=0.05,shuffle='true')\n"
      ],
      "metadata": {
        "id": "Rw_-8FIf2KxW"
      },
      "execution_count": 49,
      "outputs": []
    },
    {
      "cell_type": "code",
      "source": [
        "# Decision tree\n",
        "decision_tree = tree.DecisionTreeClassifier(random_state=50)\n",
        "decision_tree.fit(x_train, y_train)\n",
        "y_pred_tree = decision_tree.predict(x_test)\n",
        "tree_ac = round(m.accuracy_score(y_test, y_pred_tree), 4)\n",
        "tree_ps = round(m.precision_score(y_test, y_pred_tree, average = 'micro'), 4)\n",
        "tree_rs = round(m.recall_score(y_test,y_pred_tree, average = 'micro'), 4)\n",
        "tree_fs = round(m.f1_score(y_test, y_pred_tree, average = 'micro'), 4)"
      ],
      "metadata": {
        "id": "ccGwneeMIP_X"
      },
      "execution_count": 50,
      "outputs": []
    },
    {
      "cell_type": "code",
      "source": [
        "# knn\n",
        "k_range = range(1, 30, 2)\n",
        "KNN_ac = []\n",
        "KNN_ps = []\n",
        "KNN_rs = []\n",
        "KNN_fs = []\n",
        "for k in k_range:\n",
        "  KNN = KNeighborsClassifier(n_neighbors=k)\n",
        "  KNN.fit(x_train, y_train)\n",
        "  y_pred_knn = KNN.predict(x_test)\n",
        "  KNN_ac.append(round(m.accuracy_score(y_test, y_pred_knn), 4))\n",
        "  KNN_ps.append(round(m.precision_score(y_test, y_pred_knn, average = 'micro'), 4))\n",
        "  KNN_rs.append(round(m.recall_score(y_test, y_pred_knn, average = 'micro'), 4))\n",
        "  KNN_fs.append(round(m.f1_score(y_test, y_pred_knn, average = 'micro'), 4))"
      ],
      "metadata": {
        "colab": {
          "base_uri": "https://localhost:8080/"
        },
        "id": "TSIObHNSMGRy",
        "outputId": "2d8bec54-42a4-42fd-e769-6a62cc4ce736"
      },
      "execution_count": 51,
      "outputs": [
        {
          "output_type": "stream",
          "name": "stderr",
          "text": [
            "/usr/local/lib/python3.9/dist-packages/sklearn/neighbors/_classification.py:215: DataConversionWarning: A column-vector y was passed when a 1d array was expected. Please change the shape of y to (n_samples,), for example using ravel().\n",
            "  return self._fit(X, y)\n",
            "/usr/local/lib/python3.9/dist-packages/sklearn/neighbors/_classification.py:215: DataConversionWarning: A column-vector y was passed when a 1d array was expected. Please change the shape of y to (n_samples,), for example using ravel().\n",
            "  return self._fit(X, y)\n",
            "/usr/local/lib/python3.9/dist-packages/sklearn/neighbors/_classification.py:215: DataConversionWarning: A column-vector y was passed when a 1d array was expected. Please change the shape of y to (n_samples,), for example using ravel().\n",
            "  return self._fit(X, y)\n",
            "/usr/local/lib/python3.9/dist-packages/sklearn/neighbors/_classification.py:215: DataConversionWarning: A column-vector y was passed when a 1d array was expected. Please change the shape of y to (n_samples,), for example using ravel().\n",
            "  return self._fit(X, y)\n",
            "/usr/local/lib/python3.9/dist-packages/sklearn/neighbors/_classification.py:215: DataConversionWarning: A column-vector y was passed when a 1d array was expected. Please change the shape of y to (n_samples,), for example using ravel().\n",
            "  return self._fit(X, y)\n",
            "/usr/local/lib/python3.9/dist-packages/sklearn/neighbors/_classification.py:215: DataConversionWarning: A column-vector y was passed when a 1d array was expected. Please change the shape of y to (n_samples,), for example using ravel().\n",
            "  return self._fit(X, y)\n",
            "/usr/local/lib/python3.9/dist-packages/sklearn/neighbors/_classification.py:215: DataConversionWarning: A column-vector y was passed when a 1d array was expected. Please change the shape of y to (n_samples,), for example using ravel().\n",
            "  return self._fit(X, y)\n",
            "/usr/local/lib/python3.9/dist-packages/sklearn/neighbors/_classification.py:215: DataConversionWarning: A column-vector y was passed when a 1d array was expected. Please change the shape of y to (n_samples,), for example using ravel().\n",
            "  return self._fit(X, y)\n",
            "/usr/local/lib/python3.9/dist-packages/sklearn/neighbors/_classification.py:215: DataConversionWarning: A column-vector y was passed when a 1d array was expected. Please change the shape of y to (n_samples,), for example using ravel().\n",
            "  return self._fit(X, y)\n",
            "/usr/local/lib/python3.9/dist-packages/sklearn/neighbors/_classification.py:215: DataConversionWarning: A column-vector y was passed when a 1d array was expected. Please change the shape of y to (n_samples,), for example using ravel().\n",
            "  return self._fit(X, y)\n",
            "/usr/local/lib/python3.9/dist-packages/sklearn/neighbors/_classification.py:215: DataConversionWarning: A column-vector y was passed when a 1d array was expected. Please change the shape of y to (n_samples,), for example using ravel().\n",
            "  return self._fit(X, y)\n",
            "/usr/local/lib/python3.9/dist-packages/sklearn/neighbors/_classification.py:215: DataConversionWarning: A column-vector y was passed when a 1d array was expected. Please change the shape of y to (n_samples,), for example using ravel().\n",
            "  return self._fit(X, y)\n",
            "/usr/local/lib/python3.9/dist-packages/sklearn/neighbors/_classification.py:215: DataConversionWarning: A column-vector y was passed when a 1d array was expected. Please change the shape of y to (n_samples,), for example using ravel().\n",
            "  return self._fit(X, y)\n",
            "/usr/local/lib/python3.9/dist-packages/sklearn/neighbors/_classification.py:215: DataConversionWarning: A column-vector y was passed when a 1d array was expected. Please change the shape of y to (n_samples,), for example using ravel().\n",
            "  return self._fit(X, y)\n",
            "/usr/local/lib/python3.9/dist-packages/sklearn/neighbors/_classification.py:215: DataConversionWarning: A column-vector y was passed when a 1d array was expected. Please change the shape of y to (n_samples,), for example using ravel().\n",
            "  return self._fit(X, y)\n"
          ]
        }
      ]
    },
    {
      "cell_type": "code",
      "source": [
        "# Logistic\n",
        "classifier = LogisticRegression(random_state= 0)\n",
        "classifier.fit(x_train, y_train)\n",
        "y_pred_log = classifier.predict(x_test)\n",
        "logistic_ac = round(m.accuracy_score(y_test, y_pred_log), 4)\n",
        "logistic_ps = round(m.precision_score(y_test, y_pred_log,average='micro'), 4)\n",
        "logistic_rs = round(m.recall_score(y_test,y_pred_log,average='micro'), 4)\n",
        "logistic_fs =  round(m.f1_score(y_test, y_pred_log,average='micro'), 4)"
      ],
      "metadata": {
        "colab": {
          "base_uri": "https://localhost:8080/"
        },
        "id": "qpBZPQPTMHt1",
        "outputId": "e29a6227-7759-4a6c-fcd6-367bdd0464f3"
      },
      "execution_count": 52,
      "outputs": [
        {
          "output_type": "stream",
          "name": "stderr",
          "text": [
            "/usr/local/lib/python3.9/dist-packages/sklearn/utils/validation.py:1143: DataConversionWarning: A column-vector y was passed when a 1d array was expected. Please change the shape of y to (n_samples, ), for example using ravel().\n",
            "  y = column_or_1d(y, warn=True)\n",
            "/usr/local/lib/python3.9/dist-packages/sklearn/linear_model/_logistic.py:458: ConvergenceWarning: lbfgs failed to converge (status=1):\n",
            "STOP: TOTAL NO. of ITERATIONS REACHED LIMIT.\n",
            "\n",
            "Increase the number of iterations (max_iter) or scale the data as shown in:\n",
            "    https://scikit-learn.org/stable/modules/preprocessing.html\n",
            "Please also refer to the documentation for alternative solver options:\n",
            "    https://scikit-learn.org/stable/modules/linear_model.html#logistic-regression\n",
            "  n_iter_i = _check_optimize_result(\n"
          ]
        }
      ]
    },
    {
      "cell_type": "code",
      "source": [
        "# linear\n",
        "clf = svm.SVC(kernel='linear')\n",
        "clf.fit(x_train, y_train)\n",
        "y_pred_linear = clf.predict(x_test)\n",
        "linear_ps =round(m.precision_score(y_test, y_pred_linear, average='micro'), 4)\n",
        "linear_rs =round(m.recall_score(y_test, y_pred_linear, average='micro'), 4)\n",
        "linear_fs=round(m.f1_score(y_test, y_pred_linear, average='micro'), 4)\n",
        "linear_ac =round(m.accuracy_score(y_test, y_pred_linear), 4)"
      ],
      "metadata": {
        "colab": {
          "base_uri": "https://localhost:8080/"
        },
        "id": "CNDwR7p8MKe9",
        "outputId": "0ccb7deb-c1b9-4220-b046-68f8f3a1c1d9"
      },
      "execution_count": 53,
      "outputs": [
        {
          "output_type": "stream",
          "name": "stderr",
          "text": [
            "/usr/local/lib/python3.9/dist-packages/sklearn/utils/validation.py:1143: DataConversionWarning: A column-vector y was passed when a 1d array was expected. Please change the shape of y to (n_samples, ), for example using ravel().\n",
            "  y = column_or_1d(y, warn=True)\n"
          ]
        }
      ]
    },
    {
      "cell_type": "code",
      "source": [
        "# poly\n",
        "clf = svm.SVC(kernel='poly', degree=3)\n",
        "clf.fit(x_train, y_train)\n",
        "y_pred_poly = clf.predict(x_test)\n",
        "poly_ps =round(m.precision_score(y_test, y_pred_poly, average='micro'), 4)\n",
        "poly_rs =round(m.recall_score(y_test, y_pred_poly, average='micro'), 4)\n",
        "poly_fs=round(m.f1_score(y_test, y_pred_poly, average='micro'), 4)\n",
        "poly_ac =round(m.accuracy_score(y_test, y_pred_poly), 4)"
      ],
      "metadata": {
        "colab": {
          "base_uri": "https://localhost:8080/"
        },
        "id": "w40rq9J0MZ_g",
        "outputId": "50e54874-a8e9-42a8-8a63-970766cb710b"
      },
      "execution_count": 54,
      "outputs": [
        {
          "output_type": "stream",
          "name": "stderr",
          "text": [
            "/usr/local/lib/python3.9/dist-packages/sklearn/utils/validation.py:1143: DataConversionWarning: A column-vector y was passed when a 1d array was expected. Please change the shape of y to (n_samples, ), for example using ravel().\n",
            "  y = column_or_1d(y, warn=True)\n"
          ]
        }
      ]
    },
    {
      "cell_type": "code",
      "source": [
        "#  Sigmoid\n",
        "clf = svm.SVC(kernel='sigmoid')\n",
        "clf.fit(x_train, y_train)\n",
        "y_pred_sigmoid = clf.predict(x_test)\n",
        "sigmoid_ps =round(m.precision_score(y_test, y_pred_sigmoid, average='micro'), 4)\n",
        "sigmoid_rs =round(m.recall_score(y_test, y_pred_sigmoid, average='micro'), 4)\n",
        "sigmoid_fs=round(m.f1_score(y_test, y_pred_sigmoid, average='micro'), 4)\n",
        "sigmoid_ac =round(m.accuracy_score(y_test, y_pred_sigmoid), 4)"
      ],
      "metadata": {
        "colab": {
          "base_uri": "https://localhost:8080/"
        },
        "id": "-Bqr16frMbvu",
        "outputId": "e05e58c7-bd76-4ddd-e2d8-88b62973d449"
      },
      "execution_count": 55,
      "outputs": [
        {
          "output_type": "stream",
          "name": "stderr",
          "text": [
            "/usr/local/lib/python3.9/dist-packages/sklearn/utils/validation.py:1143: DataConversionWarning: A column-vector y was passed when a 1d array was expected. Please change the shape of y to (n_samples, ), for example using ravel().\n",
            "  y = column_or_1d(y, warn=True)\n"
          ]
        }
      ]
    },
    {
      "cell_type": "code",
      "source": [
        "#  RBF\n",
        "clf = svm.SVC(kernel='rbf')\n",
        "clf.fit(x_train, y_train)\n",
        "y_pred_rbf = clf.predict(x_test)\n",
        "rbf_ps =round(m.precision_score(y_test, y_pred_rbf, average='micro'), 4)\n",
        "rbf_rs =round(m.recall_score(y_test, y_pred_rbf, average='micro'), 4)\n",
        "rbf_fs=round(m.f1_score(y_test, y_pred_rbf, average='micro'), 4)\n",
        "rbf_ac =round(m.accuracy_score(y_test, y_pred_rbf), 4)"
      ],
      "metadata": {
        "colab": {
          "base_uri": "https://localhost:8080/"
        },
        "id": "v6RyQv0EMcuM",
        "outputId": "c5cbc2ef-3732-4469-95b2-edea80b45d7d"
      },
      "execution_count": 56,
      "outputs": [
        {
          "output_type": "stream",
          "name": "stderr",
          "text": [
            "/usr/local/lib/python3.9/dist-packages/sklearn/utils/validation.py:1143: DataConversionWarning: A column-vector y was passed when a 1d array was expected. Please change the shape of y to (n_samples, ), for example using ravel().\n",
            "  y = column_or_1d(y, warn=True)\n"
          ]
        }
      ]
    },
    {
      "cell_type": "code",
      "source": [
        "d_KNN = {'Accuracy':max(KNN_ac), 'Precision':max(KNN_ps), 'Recall':max(KNN_rs), 'F1': max(KNN_fs)}\n",
        "d_Logictis =  {'Accuracy': logistic_ac, 'Precision': logistic_ps, 'Recall': logistic_rs, 'F1': logistic_fs}\n",
        "d_tree = {'Accuracy': tree_ac, 'Precision': tree_ps, 'Recall': tree_rs, 'F1': tree_fs}\n",
        "d_linear = {'Accuracy': linear_ac, 'Precision': linear_ps, 'Recall': linear_rs, 'F1': linear_fs}\n",
        "d_poly = {'Accuracy':poly_ac, 'Precision':poly_ps, 'Recall':poly_rs, 'F1': poly_fs}\n",
        "d_sigmoid =  {'Accuracy': sigmoid_ac, 'Precision': sigmoid_ps, 'Recall': sigmoid_rs, 'F1': sigmoid_fs}\n",
        "d_rbf = {'Accuracy': rbf_ac, 'Precision': rbf_ps, 'Recall': rbf_rs, 'F1': rbf_fs}\n",
        "pd.DataFrame({'Linear' : pd.Series(d_linear), 'Poly':pd.Series(d_poly), 'Sigmoid': pd.Series(d_sigmoid), 'RBF': pd.Series(d_rbf),'KNN' : pd.Series(d_KNN), 'Logictis Regression':pd.Series(d_Logictis), 'Decision Tree': pd.Series(d_tree)})\n"
      ],
      "metadata": {
        "colab": {
          "base_uri": "https://localhost:8080/",
          "height": 175
        },
        "id": "Q5PB9kWWMdqZ",
        "outputId": "c5d258f4-1575-4af2-8bac-53ccabd68a0c"
      },
      "execution_count": 57,
      "outputs": [
        {
          "output_type": "execute_result",
          "data": {
            "text/plain": [
              "           Linear    Poly  Sigmoid     RBF     KNN  Logictis Regression  \\\n",
              "Accuracy   0.9985  0.9978   0.9978  0.9978  0.9979                0.999   \n",
              "Precision  0.9985  0.9978   0.9978  0.9978  0.9979                0.999   \n",
              "Recall     0.9985  0.9978   0.9978  0.9978  0.9979                0.999   \n",
              "F1         0.9985  0.9978   0.9978  0.9978  0.9979                0.999   \n",
              "\n",
              "           Decision Tree  \n",
              "Accuracy          0.9989  \n",
              "Precision         0.9989  \n",
              "Recall            0.9989  \n",
              "F1                0.9989  "
            ],
            "text/html": [
              "\n",
              "  <div id=\"df-9ccb893f-1ec6-4b37-a8f5-b593c62cdfb7\">\n",
              "    <div class=\"colab-df-container\">\n",
              "      <div>\n",
              "<style scoped>\n",
              "    .dataframe tbody tr th:only-of-type {\n",
              "        vertical-align: middle;\n",
              "    }\n",
              "\n",
              "    .dataframe tbody tr th {\n",
              "        vertical-align: top;\n",
              "    }\n",
              "\n",
              "    .dataframe thead th {\n",
              "        text-align: right;\n",
              "    }\n",
              "</style>\n",
              "<table border=\"1\" class=\"dataframe\">\n",
              "  <thead>\n",
              "    <tr style=\"text-align: right;\">\n",
              "      <th></th>\n",
              "      <th>Linear</th>\n",
              "      <th>Poly</th>\n",
              "      <th>Sigmoid</th>\n",
              "      <th>RBF</th>\n",
              "      <th>KNN</th>\n",
              "      <th>Logictis Regression</th>\n",
              "      <th>Decision Tree</th>\n",
              "    </tr>\n",
              "  </thead>\n",
              "  <tbody>\n",
              "    <tr>\n",
              "      <th>Accuracy</th>\n",
              "      <td>0.9985</td>\n",
              "      <td>0.9978</td>\n",
              "      <td>0.9978</td>\n",
              "      <td>0.9978</td>\n",
              "      <td>0.9979</td>\n",
              "      <td>0.999</td>\n",
              "      <td>0.9989</td>\n",
              "    </tr>\n",
              "    <tr>\n",
              "      <th>Precision</th>\n",
              "      <td>0.9985</td>\n",
              "      <td>0.9978</td>\n",
              "      <td>0.9978</td>\n",
              "      <td>0.9978</td>\n",
              "      <td>0.9979</td>\n",
              "      <td>0.999</td>\n",
              "      <td>0.9989</td>\n",
              "    </tr>\n",
              "    <tr>\n",
              "      <th>Recall</th>\n",
              "      <td>0.9985</td>\n",
              "      <td>0.9978</td>\n",
              "      <td>0.9978</td>\n",
              "      <td>0.9978</td>\n",
              "      <td>0.9979</td>\n",
              "      <td>0.999</td>\n",
              "      <td>0.9989</td>\n",
              "    </tr>\n",
              "    <tr>\n",
              "      <th>F1</th>\n",
              "      <td>0.9985</td>\n",
              "      <td>0.9978</td>\n",
              "      <td>0.9978</td>\n",
              "      <td>0.9978</td>\n",
              "      <td>0.9979</td>\n",
              "      <td>0.999</td>\n",
              "      <td>0.9989</td>\n",
              "    </tr>\n",
              "  </tbody>\n",
              "</table>\n",
              "</div>\n",
              "      <button class=\"colab-df-convert\" onclick=\"convertToInteractive('df-9ccb893f-1ec6-4b37-a8f5-b593c62cdfb7')\"\n",
              "              title=\"Convert this dataframe to an interactive table.\"\n",
              "              style=\"display:none;\">\n",
              "        \n",
              "  <svg xmlns=\"http://www.w3.org/2000/svg\" height=\"24px\"viewBox=\"0 0 24 24\"\n",
              "       width=\"24px\">\n",
              "    <path d=\"M0 0h24v24H0V0z\" fill=\"none\"/>\n",
              "    <path d=\"M18.56 5.44l.94 2.06.94-2.06 2.06-.94-2.06-.94-.94-2.06-.94 2.06-2.06.94zm-11 1L8.5 8.5l.94-2.06 2.06-.94-2.06-.94L8.5 2.5l-.94 2.06-2.06.94zm10 10l.94 2.06.94-2.06 2.06-.94-2.06-.94-.94-2.06-.94 2.06-2.06.94z\"/><path d=\"M17.41 7.96l-1.37-1.37c-.4-.4-.92-.59-1.43-.59-.52 0-1.04.2-1.43.59L10.3 9.45l-7.72 7.72c-.78.78-.78 2.05 0 2.83L4 21.41c.39.39.9.59 1.41.59.51 0 1.02-.2 1.41-.59l7.78-7.78 2.81-2.81c.8-.78.8-2.07 0-2.86zM5.41 20L4 18.59l7.72-7.72 1.47 1.35L5.41 20z\"/>\n",
              "  </svg>\n",
              "      </button>\n",
              "      \n",
              "  <style>\n",
              "    .colab-df-container {\n",
              "      display:flex;\n",
              "      flex-wrap:wrap;\n",
              "      gap: 12px;\n",
              "    }\n",
              "\n",
              "    .colab-df-convert {\n",
              "      background-color: #E8F0FE;\n",
              "      border: none;\n",
              "      border-radius: 50%;\n",
              "      cursor: pointer;\n",
              "      display: none;\n",
              "      fill: #1967D2;\n",
              "      height: 32px;\n",
              "      padding: 0 0 0 0;\n",
              "      width: 32px;\n",
              "    }\n",
              "\n",
              "    .colab-df-convert:hover {\n",
              "      background-color: #E2EBFA;\n",
              "      box-shadow: 0px 1px 2px rgba(60, 64, 67, 0.3), 0px 1px 3px 1px rgba(60, 64, 67, 0.15);\n",
              "      fill: #174EA6;\n",
              "    }\n",
              "\n",
              "    [theme=dark] .colab-df-convert {\n",
              "      background-color: #3B4455;\n",
              "      fill: #D2E3FC;\n",
              "    }\n",
              "\n",
              "    [theme=dark] .colab-df-convert:hover {\n",
              "      background-color: #434B5C;\n",
              "      box-shadow: 0px 1px 3px 1px rgba(0, 0, 0, 0.15);\n",
              "      filter: drop-shadow(0px 1px 2px rgba(0, 0, 0, 0.3));\n",
              "      fill: #FFFFFF;\n",
              "    }\n",
              "  </style>\n",
              "\n",
              "      <script>\n",
              "        const buttonEl =\n",
              "          document.querySelector('#df-9ccb893f-1ec6-4b37-a8f5-b593c62cdfb7 button.colab-df-convert');\n",
              "        buttonEl.style.display =\n",
              "          google.colab.kernel.accessAllowed ? 'block' : 'none';\n",
              "\n",
              "        async function convertToInteractive(key) {\n",
              "          const element = document.querySelector('#df-9ccb893f-1ec6-4b37-a8f5-b593c62cdfb7');\n",
              "          const dataTable =\n",
              "            await google.colab.kernel.invokeFunction('convertToInteractive',\n",
              "                                                     [key], {});\n",
              "          if (!dataTable) return;\n",
              "\n",
              "          const docLinkHtml = 'Like what you see? Visit the ' +\n",
              "            '<a target=\"_blank\" href=https://colab.research.google.com/notebooks/data_table.ipynb>data table notebook</a>'\n",
              "            + ' to learn more about interactive tables.';\n",
              "          element.innerHTML = '';\n",
              "          dataTable['output_type'] = 'display_data';\n",
              "          await google.colab.output.renderOutput(dataTable, element);\n",
              "          const docLink = document.createElement('div');\n",
              "          docLink.innerHTML = docLinkHtml;\n",
              "          element.appendChild(docLink);\n",
              "        }\n",
              "      </script>\n",
              "    </div>\n",
              "  </div>\n",
              "  "
            ]
          },
          "metadata": {},
          "execution_count": 57
        }
      ]
    },
    {
      "cell_type": "markdown",
      "source": [
        "#Finally,\n",
        "Save a copy in your Github. Remember renaming the notebook."
      ],
      "metadata": {
        "id": "Ok7RGkea_b7n"
      }
    }
  ]
}