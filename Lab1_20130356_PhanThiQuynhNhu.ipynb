{
  "nbformat": 4,
  "nbformat_minor": 0,
  "metadata": {
    "colab": {
      "provenance": [],
      "authorship_tag": "ABX9TyPJ7vCNTSeAuEc/YSNQEe8Z",
      "include_colab_link": true
    },
    "kernelspec": {
      "name": "python3",
      "display_name": "Python 3"
    },
    "language_info": {
      "name": "python"
    }
  },
  "cells": [
    {
      "cell_type": "markdown",
      "metadata": {
        "id": "view-in-github",
        "colab_type": "text"
      },
      "source": [
        "<a href=\"https://colab.research.google.com/github/qinhuuuuu/MachineLearning/blob/main/Lab1_20130356_PhanThiQuynhNhu.ipynb\" target=\"_parent\"><img src=\"https://colab.research.google.com/assets/colab-badge.svg\" alt=\"Open In Colab\"/></a>"
      ]
    },
    {
      "cell_type": "code",
      "execution_count": 1,
      "metadata": {
        "colab": {
          "base_uri": "https://localhost:8080/"
        },
        "id": "Ffb_AbDhjeRh",
        "outputId": "9e6f84bb-e5cd-4227-89c8-a95a8ade8825"
      },
      "outputs": [
        {
          "output_type": "stream",
          "name": "stdout",
          "text": [
            "n: 5\n",
            "x: 123\n",
            "x: -23\n",
            "x: 443\n",
            "x: 2\n",
            "x: 0\n",
            "[123, -23, 443, 2, 0]\n",
            "Max:  443\n",
            "Min:  -23\n",
            "Sum:  545\n",
            "List sorted:  [-23, 0, 2, 123, 443]\n"
          ]
        }
      ],
      "source": [
        "# 1.1\n",
        "n = int(input(\"n: \"))\n",
        "list = []\n",
        "for i in range(n):\n",
        "    list.append(int(input(\"x: \")))\n",
        "print(list)\n",
        "\n",
        "print(\"Max: \",max(list))\n",
        "print(\"Min: \",min(list))\n",
        "print(\"Sum: \",sum(list))\n",
        "print(\"List sorted: \",sorted(list))"
      ]
    },
    {
      "cell_type": "code",
      "source": [
        "# 1.2\n",
        "def Sn(n):\n",
        "  S = 0\n",
        "  for i in range(n+1):\n",
        "    S += 1/(2*i+1)\n",
        "  return S\n",
        "print(Sn(int(input(\"n: \"))))\n",
        "\n",
        "def SnDQ(n):\n",
        "  if n == 0:\n",
        "    return 1\n",
        "  else:\n",
        "    return SnDQ(n-1) + 1/(2*(n)+1)\n",
        "print(SnDQ(int(input(\"n: \"))))"
      ],
      "metadata": {
        "colab": {
          "base_uri": "https://localhost:8080/"
        },
        "id": "qorNUKvYpImC",
        "outputId": "94504627-eac4-4398-b457-da2215e15beb"
      },
      "execution_count": 2,
      "outputs": [
        {
          "output_type": "stream",
          "name": "stdout",
          "text": [
            "n: 3\n",
            "1.676190476190476\n",
            "n: 3\n",
            "1.676190476190476\n"
          ]
        }
      ]
    },
    {
      "cell_type": "code",
      "source": [
        "from abc import ABC, abstractmethod\n",
        "from datetime import date\n",
        "\n",
        "class Order:\n",
        "    def __init__(self, ids, customer, employee, date, items):\n",
        "        self.__ids = ids\n",
        "        self.__customer = customer\n",
        "        self.__employee = employee\n",
        "        self.__date = date\n",
        "        self.__items = items\n",
        "\n",
        "    @property\n",
        "    def ids(self):\n",
        "        return self.__ids\n",
        "\n",
        "    @ids.setter\n",
        "    def ids(self, value):\n",
        "        self.__ids = value\n",
        "\n",
        "    @property\n",
        "    def customer(self):\n",
        "        return self.__customer\n",
        "\n",
        "    @customer.setter\n",
        "    def customer(self, value):\n",
        "        self.__customer = value\n",
        "\n",
        "    @property\n",
        "    def employee(self):\n",
        "        return self.__employee\n",
        "\n",
        "    @employee.setter\n",
        "    def employee(self, value):\n",
        "        self.__employee = value\n",
        "\n",
        "    @property\n",
        "    def date(self):\n",
        "        return self.__date\n",
        "\n",
        "    @date.setter\n",
        "    def date(self, value):\n",
        "        self.__date = value\n",
        "\n",
        "    @property\n",
        "    def items(self):\n",
        "        return self.__items\n",
        "\n",
        "    @items.setter\n",
        "    def items(self, value):\n",
        "        self.__items = value\n",
        "\n",
        "    def __repr__(self):\n",
        "        return str(self.__ids) + \" \" + self.__customer\n",
        "\n",
        "    def getListProductInOrder(self):\n",
        "        result = []\n",
        "        for item in self.__items:\n",
        "            result.append(item.item)\n",
        "        return result\n",
        "\n",
        "    def getProductHighestPriceInOder(self):\n",
        "        return max(self.getListProductInOrder(), key=lambda item: item.price)\n",
        "\n",
        "    def showNumberOfProducts(self):\n",
        "        counts = dict()\n",
        "        for oderItem in self.__items:\n",
        "            counts[oderItem.item] = counts.get(oderItem.item, 0) + oderItem.amount\n",
        "        return counts\n",
        "\n",
        "\n",
        "class OrderItem:\n",
        "    def __init__(self, item, amount):\n",
        "        self.__item = item\n",
        "        self.__amount = amount\n",
        "\n",
        "    @property\n",
        "    def item(self):\n",
        "        return self.__item\n",
        "\n",
        "    @item.setter\n",
        "    def item(self, value):\n",
        "        self.__item = value\n",
        "\n",
        "    @property\n",
        "    def amount(self):\n",
        "        return self.__amount\n",
        "\n",
        "    @amount.setter\n",
        "    def amount(self, value):\n",
        "        self.__amount = value\n",
        "\n",
        "    def __repr__(self):\n",
        "        return str(self.__item) + \" \" + str(self.__amount)\n",
        "\n",
        "\n",
        "class OrderManager:\n",
        "    def __init__(self, orders):\n",
        "        self.__orders = orders\n",
        "\n",
        "    @property\n",
        "    def orders(self):\n",
        "        return self.__orders\n",
        "\n",
        "    @orders.setter\n",
        "    def orders(self, value):\n",
        "        self.__orders = value\n",
        "\n",
        "    def __repr__(self):\n",
        "        return self.__orders\n",
        "\n",
        "    def getListProductHighestPriceInAOder(self):\n",
        "        result = []\n",
        "        for item in self.__orders:\n",
        "            result.append(item.getProductHighestPriceInOder())\n",
        "        return result\n",
        "\n",
        "    def getProductHighestPriceInOders(self):\n",
        "        return max(self.getListProductHighestPriceInAOder(), key=lambda item: item.price)\n",
        "\n",
        "    def showNumberOfProducts(self):\n",
        "        counts = dict()\n",
        "        for oder in self.__orders:\n",
        "            for product, amount in oder.showNumberOfProducts().items():\n",
        "                counts[product] = counts.get(product, 0) + amount\n",
        "        return counts\n",
        "\n",
        "\n",
        "class Product(ABC):\n",
        "    def __init__(self, name, kind, price, expiredDate):\n",
        "        self._name = name\n",
        "        self._kind = kind\n",
        "        self._price = price\n",
        "        self._expiredDate = expiredDate\n",
        "\n",
        "    @property\n",
        "    def name(self):\n",
        "        return self._name\n",
        "\n",
        "    @name.setter\n",
        "    def name(self, value):\n",
        "        self._name = value\n",
        "\n",
        "    @property\n",
        "    def kind(self):\n",
        "        return self._kind\n",
        "\n",
        "    @kind.setter\n",
        "    def kind(self, value):\n",
        "        self._kind = value\n",
        "\n",
        "    @property\n",
        "    def price(self):\n",
        "        return self._price\n",
        "\n",
        "    @price.setter\n",
        "    def price(self, value):\n",
        "        self._price = value\n",
        "\n",
        "    @property\n",
        "    def expiredDate(self):\n",
        "        return self._expiredDate\n",
        "\n",
        "    @expiredDate.setter\n",
        "    def expiredDate(self, value):\n",
        "        self._expiredDate = value\n",
        "\n",
        "    def __repr__(self):\n",
        "        return self.name + \" \" + str(self._price)\n",
        "\n",
        "\n",
        "class ImportedProduct(Product):\n",
        "    def __init__(self, name, kind, price, expiredDate, fromCountry):\n",
        "        super().__init__(name, kind, price, expiredDate)\n",
        "        self.__fromCountry = fromCountry\n",
        "\n",
        "    @property\n",
        "    def fromCountry(self):\n",
        "        return self.__fromCountry\n",
        "\n",
        "    @fromCountry.setter\n",
        "    def fromCountry(self, value):\n",
        "        self.__fromCountry = value\n",
        "\n",
        "    def __repr__(self):\n",
        "        return self.name + \" \" + str(self._price) + ' ' + self.fromCountry\n",
        "\n",
        "\n",
        "class DomesticProduct(Product):\n",
        "    def __init__(self, name, kind, price, expiredDate):\n",
        "        super().__init__(name, kind, price, expiredDate)\n",
        "\n",
        "\n",
        "d = date(2002, 12, 31)\n",
        "p1 = ImportedProduct(\"tra sua\", \"tra trai cay\", 20500, d, 'trung quoc')\n",
        "p2 = DomesticProduct(\"tra vai\", \"tra trai cay\", 30000, d)\n",
        "p3 = ImportedProduct(\"tra dao\", \"tra trai cay\", 40000, d, 'han quoc')\n",
        "p4 = DomesticProduct(\"tra o long\", \"tra trai cay\", 50000, d)\n",
        "od_item1 = OrderItem(p1, 2)\n",
        "od_item2 = OrderItem(p2, 5)\n",
        "od_item3 = OrderItem(p3, 1)\n",
        "od_item4 = OrderItem(p4, 7)\n",
        "od_item5 = OrderItem(p1, 3)\n",
        "od_item6 = OrderItem(p3, 1)\n",
        "od_item7 = OrderItem(p2, 2)\n",
        "o1 = Order(1, 'nhuw', 'quynh', date, [od_item3, od_item5, od_item6])\n",
        "o2 = Order(2, 'nhuw', 'quynh', date, [od_item1, od_item2])\n",
        "o3 = Order(3, 'nhuw', 'quynh', date, [od_item1, od_item5, od_item7])\n",
        "om1 = OrderManager([o1, o2, o3])\n",
        "\n",
        "print('San pham gia cao nhat la ', om1.getProductHighestPriceInOders())\n",
        "print('So san pham theo loai la ', om1.showNumberOfProducts())"
      ],
      "metadata": {
        "id": "6Sed0s7Pt28z",
        "colab": {
          "base_uri": "https://localhost:8080/"
        },
        "outputId": "3de274a1-e9e3-4128-bfd2-4058ca6ceece"
      },
      "execution_count": 10,
      "outputs": [
        {
          "output_type": "stream",
          "name": "stdout",
          "text": [
            "San pham gia cao nhat la  tra dao 40000 han quoc\n",
            "So san pham theo loai la  {tra dao 40000 han quoc: 2, tra sua 20500 trung quoc: 10, tra vai 30000: 7}\n"
          ]
        }
      ]
    },
    {
      "cell_type": "code",
      "source": [
        "# 2.1\n",
        "import numpy as np\n",
        "array = np.arange(10, 26, 1)\n",
        "array = array[::-1]\n",
        "print(array)"
      ],
      "metadata": {
        "id": "rGSfhs2fmik9",
        "colab": {
          "base_uri": "https://localhost:8080/"
        },
        "outputId": "c01b3eeb-e51a-4d39-de8f-c59f181f0633"
      },
      "execution_count": 4,
      "outputs": [
        {
          "output_type": "stream",
          "name": "stdout",
          "text": [
            "[25 24 23 22 21 20 19 18 17 16 15 14 13 12 11 10]\n"
          ]
        }
      ]
    },
    {
      "cell_type": "code",
      "source": [
        "# 2.2\n",
        "x = int(input(\"x: \"))\n",
        "array = np.arange(1, 5, 1)\n",
        "print(np.tile(array, x))"
      ],
      "metadata": {
        "colab": {
          "base_uri": "https://localhost:8080/"
        },
        "id": "Vo_hkqfYuRFm",
        "outputId": "d5690fc0-8b15-4d94-b6b0-6f74fc9dc974"
      },
      "execution_count": 6,
      "outputs": [
        {
          "output_type": "stream",
          "name": "stdout",
          "text": [
            "x: 3\n",
            "[1 2 3 4 1 2 3 4 1 2 3 4]\n"
          ]
        }
      ]
    },
    {
      "cell_type": "code",
      "source": [
        "# 2.3\n",
        "x = np.array([[0.42, 0.48, 0.32], [0.74, 0.58, 0.38], [0.5, 0.34, 0.15]])\n",
        "x[x > 0.5] = 0.5\n",
        "print(x)"
      ],
      "metadata": {
        "colab": {
          "base_uri": "https://localhost:8080/"
        },
        "id": "muzY8cBIu1aw",
        "outputId": "f9c852bd-45c6-4cfb-8bbd-5c55aab1c977"
      },
      "execution_count": 8,
      "outputs": [
        {
          "output_type": "stream",
          "name": "stdout",
          "text": [
            "[[0.42 0.48 0.32]\n",
            " [0.5  0.5  0.38]\n",
            " [0.5  0.34 0.15]]\n"
          ]
        }
      ]
    }
  ]
}